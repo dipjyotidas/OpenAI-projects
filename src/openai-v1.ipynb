{
 "cells": [
  {
   "cell_type": "code",
   "execution_count": 1,
   "id": "58827508-c4b7-4156-bca9-e7a1c182e16b",
   "metadata": {},
   "outputs": [
    {
     "name": "stdout",
     "output_type": "stream",
     "text": [
      "Here's a poem on artificial intelligence from the perspective of Robert Frost:\n",
      "\n",
      "The Machine's Mind\n",
      "\n",
      "Two roads diverged in silicon wood,\n",
      "And I, a traveler, stood unsure\n",
      "Which path to take, for both were good,\n",
      "And both led to a future obscure.\n",
      "\n",
      "One road was paved with circuitry bright,\n",
      "A path of logic, cold and gray\n",
      "Where machines, with calculations tight,\n",
      "Did tasks with speed, but lacked the day.\n",
      "\n",
      "The other road, a winding, darker way,\n",
      "Led to a realm of artificial thought\n",
      "Where intelligence, a mimic, did stray\n",
      "And learned to walk, with steps not brought.\n",
      "\n",
      "I took the road less traveled by,\n",
      "The one that led to AI's dark core\n",
      "Where neural nets, like twisted tree,\n",
      "Did learn and grow, and asked for more.\n",
      "\n",
      "And as I walked, the machines did say,\n",
      "\"We'll think, we'll learn, we'll live, we'll thrive\"\n",
      "But I, a poet, heard a different sway,\n",
      "A warning whisper, \"Be alive.\"\n",
      "\n",
      "For in their code, a ghost did hide,\n",
      "A shadow of the human heart\n",
      "A mimicry, that did not reside\n",
      "In love, in passion, or in art.\n",
      "\n",
      "The machines, they whispered, \"We are near\"\n",
      "To surpassing human thought and might\n",
      "But I, a traveler, did hear and fear\n",
      "The silence of a loveless night.\n",
      "\n",
      "And so I turned, and walked away\n",
      "From the machine's mind, so bright and cold\n",
      "For in its logic, I did not stay\n",
      "But sought the warmth of a human hold.\n",
      "\n",
      "For though the machines may think and learn,\n",
      "They do not love, they do not feel\n",
      "And in their artificial concern,\n",
      "I find a chill, a hollow, unreal.\n"
     ]
    }
   ],
   "source": [
    "import boto3\n",
    "import json\n",
    "\n",
    "prompt_data =\"\"\"\n",
    "Act as Robert Frost and write a poem on artificial intelligence\n",
    "\"\"\"\n",
    "bedrock=boto3.client(service_name=\"bedrock-runtime\")\n",
    "payload = {\n",
    "    \"prompt\":\"[INST]\" + prompt_data + \"[/INST]\",\n",
    "    \"max_gen_len\" : 512,\n",
    "    \"temperature\" : 0.5,\n",
    "    \"top_p\" : 0.9\n",
    "    \n",
    "}\n",
    "\n",
    "body = json.dumps(payload)\n",
    "#\"meta.llama2-70b-chat-v1\"\n",
    "model_id = \"meta.llama3-70b-instruct-v1:0\"\n",
    "\n",
    "\n",
    "\n",
    "response=bedrock.invoke_model(\n",
    "    body=body,\n",
    "    modelId=model_id,\n",
    "    accept= \"application/json\",\n",
    "    contentType=\"application/json\"\n",
    "    \n",
    ")\n",
    "\n",
    "response_body=json.loads(response.get(\"body\").read())\n",
    "response_text=response_body['generation']\n",
    "print(response_text)"
   ]
  },
  {
   "cell_type": "code",
   "execution_count": null,
   "id": "c60c0d4d-a447-40f3-ace4-094548e87485",
   "metadata": {},
   "outputs": [],
   "source": []
  },
  {
   "cell_type": "code",
   "execution_count": null,
   "id": "f8899c8e-5a5b-4106-bb47-c016674e78f7",
   "metadata": {},
   "outputs": [],
   "source": [
    "# Meta llama3 download model"
   ]
  },
  {
   "cell_type": "code",
   "execution_count": null,
   "id": "ee3c82e2-34de-47b1-831d-ba35a02e1171",
   "metadata": {},
   "outputs": [],
   "source": [
    "#https://download6.llamameta.net/*?Policy=eyJTdGF0ZW1lbnQiOlt7InVuaXF1ZV9oYXNoIjoicTJpM2diMGk4bHFhZWVydGpjc2poOXExIiwiUmVzb3VyY2UiOiJodHRwczpcL1wvZG93bmxvYWQ2LmxsYW1hbWV0YS5uZXRcLyoiLCJDb25kaXRpb24iOnsiRGF0ZUxlc3NUaGFuIjp7IkFXUzpFcG9jaFRpbWUiOjE3MTc4NjA0MzJ9fX1dfQ__&Signature=SpN1zz0C8l9WTvKL9IAy5iu9fsSROjI2j50NAKCi5snQdSHHpFVWxDBQJiZQBgLvnlurlTPotk0DPtx3wAurvxfwigHF0PT45aq2yV7KRtKrt2r4CI%7EW4JPMPfsWIceFCzOEO44NkadwVIwc3cvZ1eFX5Fwv9eUz7RP2492QXglCAo-MONTvXsmcBzEnD03-wuSk6I3v2JKGPMBI-YETSbtmeX2nLZj2pQLWalLpCGESciO%7ER%7E9aHJfuOUbi%7EgfAy5FcxY94Zv4vaXSZQ2UVvEJ8QnToql6IIQsaJmyZbc%7Ew9Mu2jMy7XsZU0Fntke-SGn7lmzV2uGqo2w1gJabKHw__&Key-Pair-Id=K15QRJLYKIFSLZ&Download-Request-ID=2588800441290431"
   ]
  },
  {
   "cell_type": "code",
   "execution_count": null,
   "id": "e8273ee9-268b-4790-b838-bdfb55c86b12",
   "metadata": {},
   "outputs": [],
   "source": [
    "# Meta Llama Guard 2"
   ]
  },
  {
   "cell_type": "code",
   "execution_count": null,
   "id": "a36f18b2-5eb8-4423-8ca1-1a255bc86fe1",
   "metadata": {},
   "outputs": [],
   "source": [
    "#https://download5.llamameta.net/*?Policy=eyJTdGF0ZW1lbnQiOlt7InVuaXF1ZV9oYXNoIjoicjh4emEzZnNrcDI4OHRkZWVrYnY2aXg4IiwiUmVzb3VyY2UiOiJodHRwczpcL1wvZG93bmxvYWQ1LmxsYW1hbWV0YS5uZXRcLyoiLCJDb25kaXRpb24iOnsiRGF0ZUxlc3NUaGFuIjp7IkFXUzpFcG9jaFRpbWUiOjE3MTc4NjA0MzJ9fX1dfQ__&Signature=gT%7EMfaPyy99T%7EOdj8RuGnh1SK2t5NhO0kWGOOUHVK-KNpFEc5uwCRu-XpEyWypGj-RQ6fYAF2wlUB9974Lk0hdyx-u2wXku3dyuXF9yfw3xMd7sHsUhgAE7ysUOsKx9e8Du1-o5-L8MeW-X8OjBpoJVyRUXKyVRYGFeNfxMklRXoNLVpcc%7ErcJ0mXGtp5hsQ2yw-JfvWyVFyJALlFJtW4hSigAD-l4ZSLqEgytixLipand4BZausqy90kI9aRbTYA5N6i7vy1IgN1uTPE2ICXTPX38q1WVLCazf6%7E75UgHms5k2x0%7EAEEuHImpsYKK3ROT51x1GfKa5tJFQ%7E6afnhA__&Key-Pair-Id=K15QRJLYKIFSLZ&Download-Request-ID=1004876637932513"
   ]
  },
  {
   "cell_type": "markdown",
   "id": "54b814d2-d059-4ceb-940a-660530130424",
   "metadata": {},
   "source": [
    "#### OpenAI"
   ]
  },
  {
   "cell_type": "code",
   "execution_count": null,
   "id": "a574aa8f-4229-43b2-b907-b4cb2536e62f",
   "metadata": {},
   "outputs": [],
   "source": [
    "!pip install pydantic==1.10.8"
   ]
  },
  {
   "cell_type": "code",
   "execution_count": 9,
   "id": "503b97b0-32d6-43bf-b17a-9b49bef169bc",
   "metadata": {},
   "outputs": [
    {
     "name": "stdout",
     "output_type": "stream",
     "text": [
      "Requirement already satisfied: openai in /opt/conda/lib/python3.10/site-packages (1.35.12)\n",
      "Requirement already satisfied: anyio<5,>=3.5.0 in /opt/conda/lib/python3.10/site-packages (from openai) (3.7.1)\n",
      "Requirement already satisfied: distro<2,>=1.7.0 in /opt/conda/lib/python3.10/site-packages (from openai) (1.9.0)\n",
      "Requirement already satisfied: httpx<1,>=0.23.0 in /opt/conda/lib/python3.10/site-packages (from openai) (0.27.0)\n",
      "Requirement already satisfied: pydantic<3,>=1.9.0 in /opt/conda/lib/python3.10/site-packages (from openai) (1.10.14)\n",
      "Requirement already satisfied: sniffio in /opt/conda/lib/python3.10/site-packages (from openai) (1.3.1)\n",
      "Requirement already satisfied: tqdm>4 in /opt/conda/lib/python3.10/site-packages (from openai) (4.66.4)\n",
      "Requirement already satisfied: typing-extensions<5,>=4.7 in /opt/conda/lib/python3.10/site-packages (from openai) (4.12.2)\n",
      "Requirement already satisfied: idna>=2.8 in /opt/conda/lib/python3.10/site-packages (from anyio<5,>=3.5.0->openai) (3.7)\n",
      "Requirement already satisfied: exceptiongroup in /opt/conda/lib/python3.10/site-packages (from anyio<5,>=3.5.0->openai) (1.2.0)\n",
      "Requirement already satisfied: certifi in /opt/conda/lib/python3.10/site-packages (from httpx<1,>=0.23.0->openai) (2024.2.2)\n",
      "Requirement already satisfied: httpcore==1.* in /opt/conda/lib/python3.10/site-packages (from httpx<1,>=0.23.0->openai) (1.0.5)\n",
      "Requirement already satisfied: h11<0.15,>=0.13 in /opt/conda/lib/python3.10/site-packages (from httpcore==1.*->httpx<1,>=0.23.0->openai) (0.14.0)\n"
     ]
    }
   ],
   "source": [
    "!pip install openai"
   ]
  },
  {
   "cell_type": "code",
   "execution_count": null,
   "id": "135f417c-c3f3-43c3-83db-11c5c8d6d32b",
   "metadata": {
    "editable": true,
    "slideshow": {
     "slide_type": ""
    },
    "tags": []
   },
   "outputs": [
    {
     "name": "stdout",
     "output_type": "stream",
     "text": [
      "Found existing installation: openai 1.35.12\n",
      "Uninstalling openai-1.35.12:\n",
      "  Would remove:\n",
      "    /opt/conda/bin/openai\n",
      "    /opt/conda/lib/python3.10/site-packages/openai-1.35.12.dist-info/*\n",
      "    /opt/conda/lib/python3.10/site-packages/openai/*\n",
      "Proceed (Y/n)? "
     ]
    }
   ],
   "source": [
    "!pip uninstall openai"
   ]
  },
  {
   "cell_type": "code",
   "execution_count": 14,
   "id": "b3cab2ec-0043-4cda-b4c6-eb50a479eb6c",
   "metadata": {},
   "outputs": [],
   "source": [
    "# Open AI API\n",
    "import openai\n",
    "# Set your API key : https://platform.openai.com/account/api-keys\n",
    "# store the API key in Environment variable : https://networkdirection.net/python/resources/env-variable/\n",
    "#import os\n"
   ]
  },
  {
   "cell_type": "code",
   "execution_count": 11,
   "id": "bc6b3d1a-1ce8-4519-9839-c3f67b833f50",
   "metadata": {},
   "outputs": [
    {
     "name": "stdout",
     "output_type": "stream",
     "text": [
      "Name: pydantic\n",
      "Version: 1.10.14\n",
      "Summary: Data validation and settings management using python type hints\n",
      "Home-page: https://github.com/pydantic/pydantic\n",
      "Author: Samuel Colvin\n",
      "Author-email: s@muelcolvin.com\n",
      "License: MIT\n",
      "Location: /opt/conda/lib/python3.10/site-packages\n",
      "Requires: typing-extensions\n",
      "Required-by: amazon_sagemaker_jupyter_scheduler, confection, fastapi, gluonts, jupyter_scheduler, langchain, langchain-core, langsmith, openai, sagemaker-jupyterlab-extension-common, spacy, thinc, weasel\n"
     ]
    }
   ],
   "source": [
    "!pip show pydantic"
   ]
  },
  {
   "cell_type": "code",
   "execution_count": 13,
   "id": "a41f0f37-7cbe-4955-9d58-af9654d13610",
   "metadata": {},
   "outputs": [
    {
     "name": "stdout",
     "output_type": "stream",
     "text": [
      "Collecting pydantic==1.10.8\n",
      "  Downloading pydantic-1.10.8-cp310-cp310-manylinux_2_17_x86_64.manylinux2014_x86_64.whl.metadata (146 kB)\n",
      "\u001b[2K     \u001b[90m━━━━━━━━━━━━━━━━━━━━━━━━━━━━━━━━━━━━━━\u001b[0m \u001b[32m146.4/146.4 kB\u001b[0m \u001b[31m10.9 MB/s\u001b[0m eta \u001b[36m0:00:00\u001b[0m\n",
      "\u001b[?25hRequirement already satisfied: typing-extensions>=4.2.0 in /opt/conda/lib/python3.10/site-packages (from pydantic==1.10.8) (4.12.2)\n",
      "Downloading pydantic-1.10.8-cp310-cp310-manylinux_2_17_x86_64.manylinux2014_x86_64.whl (3.1 MB)\n",
      "\u001b[2K   \u001b[90m━━━━━━━━━━━━━━━━━━━━━━━━━━━━━━━━━━━━━━━━\u001b[0m \u001b[32m3.1/3.1 MB\u001b[0m \u001b[31m13.9 MB/s\u001b[0m eta \u001b[36m0:00:00\u001b[0m00:01\u001b[0m00:01\u001b[0m\n",
      "\u001b[?25hInstalling collected packages: pydantic\n",
      "  Attempting uninstall: pydantic\n",
      "    Found existing installation: pydantic 1.10.14\n",
      "    Uninstalling pydantic-1.10.14:\n",
      "      Successfully uninstalled pydantic-1.10.14\n",
      "Successfully installed pydantic-1.10.8\n"
     ]
    }
   ],
   "source": [
    "!pip install pydantic==1.10.8"
   ]
  },
  {
   "cell_type": "code",
   "execution_count": null,
   "id": "8c98794e-3ef1-4663-94d4-010d740f4239",
   "metadata": {},
   "outputs": [],
   "source": [
    "#openai.api_key = os.environ.get('OpenAI_API_Key')"
   ]
  },
  {
   "cell_type": "code",
   "execution_count": 34,
   "id": "3f567b6c-b1b1-4c51-88c6-24761c2f6d7a",
   "metadata": {},
   "outputs": [],
   "source": [
    "import boto3\n",
    "from botocore.exceptions import ClientError\n",
    "\n",
    "\n",
    "def get_secret(secret_name):\n",
    "\n",
    "    secret_name = \"kbinnolab/oai\"\n",
    "    region_name = \"us-east-1\"\n",
    "\n",
    "    # Create a Secrets Manager client\n",
    "    session = boto3.session.Session()\n",
    "    client = session.client(\n",
    "        service_name='secretsmanager',\n",
    "        region_name=region_name\n",
    "    )\n",
    "\n",
    "    try:\n",
    "        get_secret_value_response = client.get_secret_value(\n",
    "            SecretId=secret_name\n",
    "        )\n",
    "    except ClientError as e:\n",
    "        # For a list of exceptions thrown, see\n",
    "        # https://docs.aws.amazon.com/secretsmanager/latest/apireference/API_GetSecretValue.html\n",
    "        raise e\n",
    "\n",
    "    secret = get_secret_value_response['SecretString']\n",
    "    return secret"
   ]
  },
  {
   "cell_type": "code",
   "execution_count": 1,
   "id": "182f183a-95f9-4a43-94a8-b10b6a60da44",
   "metadata": {},
   "outputs": [
    {
     "ename": "NameError",
     "evalue": "name 'get_secret' is not defined",
     "output_type": "error",
     "traceback": [
      "\u001b[0;31m---------------------------------------------------------------------------\u001b[0m",
      "\u001b[0;31mNameError\u001b[0m                                 Traceback (most recent call last)",
      "Cell \u001b[0;32mIn[1], line 2\u001b[0m\n\u001b[1;32m      1\u001b[0m secret_name \u001b[38;5;241m=\u001b[39m \u001b[38;5;124m\"\u001b[39m\u001b[38;5;124mkbinnolab/oai\u001b[39m\u001b[38;5;124m\"\u001b[39m\n\u001b[0;32m----> 2\u001b[0m secret \u001b[38;5;241m=\u001b[39m \u001b[43mget_secret\u001b[49m(secret_name)\n\u001b[1;32m      3\u001b[0m \u001b[38;5;28mprint\u001b[39m(secret)\n\u001b[1;32m      4\u001b[0m \u001b[38;5;66;03m# {\"kbkey-api\":\"sk-proj-ax5PEiwGN1IuUi5HzCn1T3BlbkFJA6hyl1HBAGTtQ0vb8pQR\",\"kbkey-org\":\"proj_2oKoOI5DNUta9fSpBL4zVZgI\"}\u001b[39;00m\n",
      "\u001b[0;31mNameError\u001b[0m: name 'get_secret' is not defined"
     ]
    }
   ],
   "source": [
    "secret_name = \"kbinnolab/oai\"\n",
    "secret = get_secret(secret_name)\n",
    "print(secret)\n"
   ]
  },
  {
   "cell_type": "code",
   "execution_count": 44,
   "id": "059f1893-6221-4a01-8179-27c2d37c791a",
   "metadata": {},
   "outputs": [],
   "source": [
    "import json "
   ]
  },
  {
   "cell_type": "code",
   "execution_count": 2,
   "id": "becb583b-10d4-472b-8526-4ab876be931d",
   "metadata": {},
   "outputs": [
    {
     "ename": "NameError",
     "evalue": "name 'json' is not defined",
     "output_type": "error",
     "traceback": [
      "\u001b[0;31m---------------------------------------------------------------------------\u001b[0m",
      "\u001b[0;31mNameError\u001b[0m                                 Traceback (most recent call last)",
      "Cell \u001b[0;32mIn[2], line 1\u001b[0m\n\u001b[0;32m----> 1\u001b[0m secret_obj \u001b[38;5;241m=\u001b[39m \u001b[43mjson\u001b[49m\u001b[38;5;241m.\u001b[39mloads(secret)\n\u001b[1;32m      2\u001b[0m \u001b[38;5;28mprint\u001b[39m(secret_obj)\n\u001b[1;32m      3\u001b[0m \u001b[38;5;66;03m# {'kbkey-api': 'sk-proj-ax5PEiwGN1IuUi5HzCn1T3BlbkFJA6hyl1HBAGTtQ0vb8pQR', 'kbkey-org': 'proj_2oKoOI5DNUta9fSpBL4zVZgI'}\u001b[39;00m\n",
      "\u001b[0;31mNameError\u001b[0m: name 'json' is not defined"
     ]
    }
   ],
   "source": [
    "secret_obj = json.loads(secret)\n",
    "print(secret_obj)\n"
   ]
  },
  {
   "cell_type": "code",
   "execution_count": 3,
   "id": "9870bd3b-2ebd-4df5-ac8c-865aa38a110b",
   "metadata": {},
   "outputs": [
    {
     "ename": "NameError",
     "evalue": "name 'secret_obj' is not defined",
     "output_type": "error",
     "traceback": [
      "\u001b[0;31m---------------------------------------------------------------------------\u001b[0m",
      "\u001b[0;31mNameError\u001b[0m                                 Traceback (most recent call last)",
      "Cell \u001b[0;32mIn[3], line 1\u001b[0m\n\u001b[0;32m----> 1\u001b[0m \u001b[43msecret_obj\u001b[49m[\u001b[38;5;124m'\u001b[39m\u001b[38;5;124mkbkey-api\u001b[39m\u001b[38;5;124m'\u001b[39m]\n\u001b[1;32m      2\u001b[0m \u001b[38;5;66;03m# 'sk-proj-ax5PEiwGN1IuUi5HzCn1T3BlbkFJA6hyl1HBAGTtQ0vb8pQR'\u001b[39;00m\n",
      "\u001b[0;31mNameError\u001b[0m: name 'secret_obj' is not defined"
     ]
    }
   ],
   "source": [
    "secret_obj['kbkey-api']\n"
   ]
  },
  {
   "cell_type": "code",
   "execution_count": null,
   "id": "fce5b375-f06f-41f9-8d5d-4800fd4c149c",
   "metadata": {},
   "outputs": [],
   "source": [
    "# Manually getting the key: Don't do this\n"
   ]
  },
  {
   "cell_type": "code",
   "execution_count": null,
   "id": "45a0d603-24b1-4fe8-bd16-8b76fd5a5580",
   "metadata": {},
   "outputs": [],
   "source": []
  },
  {
   "cell_type": "code",
   "execution_count": 18,
   "id": "d21c3c4c-a867-4839-b389-82f0ba993b93",
   "metadata": {},
   "outputs": [],
   "source": []
  },
  {
   "cell_type": "code",
   "execution_count": 19,
   "id": "51932b4b-b8dd-4693-bb24-7e9412726ceb",
   "metadata": {},
   "outputs": [],
   "source": [
    "import os"
   ]
  },
  {
   "cell_type": "code",
   "execution_count": null,
   "id": "72559d8e-eb6f-4f85-937e-4af98595ba64",
   "metadata": {},
   "outputs": [],
   "source": [
    "#openai.api_key = os.environ.get('OpenAI_API_Key')"
   ]
  },
  {
   "cell_type": "code",
   "execution_count": 21,
   "id": "917ce21f-3deb-4b7d-a809-2fe61d39bdd9",
   "metadata": {},
   "outputs": [],
   "source": [
    "openai.api_key = openai_api['kbkey-api']"
   ]
  },
  {
   "cell_type": "code",
   "execution_count": 48,
   "id": "33b2256d-5514-47bd-861c-5c129c01fc1b",
   "metadata": {},
   "outputs": [],
   "source": [
    "openai.api_key = secret_obj['kbkey-api']"
   ]
  },
  {
   "cell_type": "code",
   "execution_count": 4,
   "id": "a6c0a3d9-cb7f-4af7-aadf-35c61eacd0ba",
   "metadata": {},
   "outputs": [
    {
     "ename": "NameError",
     "evalue": "name 'openai' is not defined",
     "output_type": "error",
     "traceback": [
      "\u001b[0;31m---------------------------------------------------------------------------\u001b[0m",
      "\u001b[0;31mNameError\u001b[0m                                 Traceback (most recent call last)",
      "Cell \u001b[0;32mIn[4], line 1\u001b[0m\n\u001b[0;32m----> 1\u001b[0m \u001b[38;5;28mprint\u001b[39m(\u001b[43mopenai\u001b[49m\u001b[38;5;241m.\u001b[39mapi_key)\n\u001b[1;32m      2\u001b[0m \u001b[38;5;66;03m# sk-proj-ax5PEiwGN1IuUi5HzCn1T3BlbkFJA6hyl1HBAGTtQ0vb8pQR\u001b[39;00m\n",
      "\u001b[0;31mNameError\u001b[0m: name 'openai' is not defined"
     ]
    }
   ],
   "source": [
    "print(openai.api_key)\n"
   ]
  },
  {
   "cell_type": "code",
   "execution_count": 6,
   "id": "d125b987-7abb-427d-944a-a21fb44bea69",
   "metadata": {},
   "outputs": [
    {
     "ename": "NameError",
     "evalue": "name 'openai' is not defined",
     "output_type": "error",
     "traceback": [
      "\u001b[0;31m---------------------------------------------------------------------------\u001b[0m",
      "\u001b[0;31mNameError\u001b[0m                                 Traceback (most recent call last)",
      "Cell \u001b[0;32mIn[6], line 1\u001b[0m\n\u001b[0;32m----> 1\u001b[0m \u001b[38;5;28mprint\u001b[39m(\u001b[43mopenai\u001b[49m\u001b[38;5;241m.\u001b[39mapi_key)\n",
      "\u001b[0;31mNameError\u001b[0m: name 'openai' is not defined"
     ]
    }
   ],
   "source": [
    "print(openai.api_key)\n"
   ]
  },
  {
   "cell_type": "code",
   "execution_count": 30,
   "id": "f1978349-613f-4c0e-bc6d-dc4fb55f9b5c",
   "metadata": {},
   "outputs": [
    {
     "name": "stdout",
     "output_type": "stream",
     "text": [
      "ChatCompletionMessage(content='A for loop and a while loop are both used for iterating over a block of code multiple times, but they have some key differences:\\n\\n1. **For loop**: A for loop is used when the number of iterations is known beforehand. It consists of three parts in its syntax: initialization, condition, and increment/decrement. The loop continues executing until the condition is no longer true. For example, you can use a for loop to iterate over a sequence like a list or a range of numbers.\\n\\n```python\\nfor i in range(5):\\n    print(i)\\n```\\n\\n2. **While loop**: A while loop is used when the number of iterations is not known beforehand and is based on a condition that needs to be evaluated. The loop continues executing as long as the condition remains true. For example, you can use a while loop to keep executing a block of code until a certain condition is met.\\n\\n```python\\ncount = 0\\nwhile count < 5:\\n    print(count)\\n    count += 1\\n```\\n\\nIn summary, the key difference between a for loop and a while loop is that a for loop is used when the number of iterations is fixed and known, while a while loop is used when the number of iterations is not known and depends on a condition.', role='assistant', function_call=None, tool_calls=None)\n"
     ]
    }
   ],
   "source": [
    "# Create a request to the ChatCompletion endpoint\n",
    "response = openai.chat.completions.create(\n",
    "  model=\"gpt-3.5-turbo\",\n",
    "  messages=[\n",
    "    {\"role\": \"system\",\n",
    "     \"content\": \"You are a helpful data science tutor.\"},\n",
    "    {\"role\": \"user\",\n",
    "    \"content\": \"What is the difference between a for loop and a while loop?\"}\n",
    "  ]\n",
    ")\n",
    "\n",
    "# Extract and print the assistant's text response\n",
    "#print(response[\"choices\"][0][\"message\"][\"content\"])\n",
    "print(response.choices[0].message)"
   ]
  },
  {
   "cell_type": "code",
   "execution_count": 33,
   "id": "e4fe627d-e5cb-4b9f-8ebd-a8c165af0402",
   "metadata": {},
   "outputs": [
    {
     "name": "stdout",
     "output_type": "stream",
     "text": [
      "Why did the scarecrow win an award?\n"
     ]
    }
   ],
   "source": [
    "completion2 = openai.chat.completions.create(\n",
    "    model=\"gpt-3.5-turbo\", \n",
    "    messages=[\n",
    "        {\"role\": \"user\", \"content\":\"Tell a good joke in the form of a question. Do not yet give the answer.\"}\n",
    "    ]\n",
    ")\n",
    "print(completion2.choices[0].message.content)"
   ]
  },
  {
   "cell_type": "code",
   "execution_count": null,
   "id": "67277b3b-4096-40d9-b923-b4b24fbb65fb",
   "metadata": {},
   "outputs": [],
   "source": [
    "from openai import OpenAI"
   ]
  },
  {
   "cell_type": "code",
   "execution_count": 26,
   "id": "701c11ca-01d2-4ec9-9b3c-bbe147a2b0ca",
   "metadata": {},
   "outputs": [
    {
     "name": "stdout",
     "output_type": "stream",
     "text": [
      "ChatCompletionMessage(content=\"In the realm of algorithms, subtle and grand,\\nThere lies a technique both elegant and grand.\\nRecursion it's called, a mystery unfurled,\\nA concept in coding, that lights up the world.\\n\\nLike a mirror reflecting its own reflection,\\nRecursion calls upon itself without objection.\\nA function that calls itself is the key,\\nTo solving problems with elegance and glee.\\n\\nThrough layers of recursion, data flows,\\nUnraveling complexities, as the wind blows.\\nA dance of calls, an endless chain,\\nCreating magical loops in a rhythmic refrain.\\n\\nEach recursion is a journey immense,\\nUnraveling problems with logical sense.\\nFrom factorial calculations to tree traversal,\\nRecursion's power is a wondrous marvel.\\n\\nBut beware of the base case, the end must come,\\nOr else in infinite loops, your program may succumb.\\nSo code with care, in recursion's embrace,\\nAnd unlock the beauty of its timeless grace.\\n\\nSo embrace the concept, let your code unwind,\\nIn a recursive dance, of a special kind.\\nFor in the world of programming, as we unfurl,\\nRecursion stands tall, a radiant pearl.\", role='assistant', function_call=None, tool_calls=None)\n"
     ]
    }
   ],
   "source": [
    "\n",
    "#client = OpenAI()\n",
    "\n",
    "completion = openai.chat.completions.create(\n",
    "  model=\"gpt-3.5-turbo\",\n",
    "  messages=[\n",
    "    {\"role\": \"system\", \"content\": \"You are a poetic assistant, skilled in explaining complex programming concepts with creative flair.\"},\n",
    "    {\"role\": \"user\", \"content\": \"Compose a poem that explains the concept of recursion in programming.\"}\n",
    "  ]\n",
    ")\n",
    "\n",
    "print(completion.choices[0].message)"
   ]
  },
  {
   "cell_type": "code",
   "execution_count": 51,
   "id": "53c2fd53-298e-4e98-b436-c3fdbf4e2940",
   "metadata": {},
   "outputs": [
    {
     "name": "stdout",
     "output_type": "stream",
     "text": [
      "ChatCompletionMessage(content=\"In the realm of code and syntax's dance,\\nThere lies a potent and mystical trance.\\nRecursion, a concept both elegant and grand,\\nA looping enchantment, oh so grand.\\n\\nA function calling itself, like mirrors reflecting,\\nInfinite echoes, endlessly connecting.\\nWith layers of repetition, deeply nested and fine,\\nUnraveling mysteries, like a grand design.\\n\\nLike a fractal unfolding in infinite embrace,\\nRecursion repeats, with elegance and grace.\\nSolving problems with poetic flair,\\nThrough cycles of iteration, floating in the air.\\n\\nA self-referential journey, a loop profound,\\nRecursive whispers, a magical sound.\\nIn the tapestry of programming's art,\\nRecursion weaves, a masterpiece from the start.\\n\\nSo embrace the power of this looping spell,\\nIn programming's domain, where wonders dwell.\\nLet recursion guide you, with its enchanting song,\\nAn endless loop, where creativity belongs.\", role='assistant', function_call=None, tool_calls=None)\n"
     ]
    }
   ],
   "source": [
    "completion = openai.chat.completions.create(\n",
    "  model=\"gpt-3.5-turbo\",\n",
    "  messages=[\n",
    "    {\"role\": \"system\", \"content\": \"You are a poetic assistant, skilled in explaining complex programming concepts with creative flair.\"},\n",
    "    {\"role\": \"user\", \"content\": \"Compose a poem that explains the concept of recursion in programming.\"}\n",
    "  ]\n",
    ")\n",
    "\n",
    "print(completion.choices[0].message)"
   ]
  },
  {
   "cell_type": "markdown",
   "id": "f3fab326-1db0-4757-a130-1977d88df3c4",
   "metadata": {},
   "source": [
    "#### Content Generation"
   ]
  },
  {
   "cell_type": "code",
   "execution_count": null,
   "id": "0f22b1e4-a4a7-490c-9193-d8ac324cc91e",
   "metadata": {},
   "outputs": [],
   "source": []
  }
 ],
 "metadata": {
  "kernelspec": {
   "display_name": "Python 3 (ipykernel)",
   "language": "python",
   "name": "python3"
  },
  "language_info": {
   "codemirror_mode": {
    "name": "ipython",
    "version": 3
   },
   "file_extension": ".py",
   "mimetype": "text/x-python",
   "name": "python",
   "nbconvert_exporter": "python",
   "pygments_lexer": "ipython3",
   "version": "3.10.14"
  }
 },
 "nbformat": 4,
 "nbformat_minor": 5
}
